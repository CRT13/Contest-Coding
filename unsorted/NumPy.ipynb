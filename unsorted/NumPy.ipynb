{
 "cells": [
  {
   "cell_type": "markdown",
   "metadata": {},
   "source": [
    "    Copyright (c) 2018\n",
    "    Author: Chaitanya Tejaswi (github.com/CRTejaswi)    License: GPL v3.0+"
   ]
  },
  {
   "cell_type": "markdown",
   "metadata": {},
   "source": [
    "# Practice - Python Modules"
   ]
  },
  {
   "cell_type": "markdown",
   "metadata": {},
   "source": [
    "## Numpy"
   ]
  },
  {
   "cell_type": "markdown",
   "metadata": {},
   "source": [
    "* [Arrays](https://www.hackerrank.com/challenges/np-arrays/problem)"
   ]
  },
  {
   "cell_type": "code",
   "execution_count": 18,
   "metadata": {},
   "outputs": [
    {
     "name": "stdout",
     "output_type": "stream",
     "text": [
      "1 2 3 4 -8 -10\n",
      "[-10.  -8.   4.   3.   2.   1.]\n"
     ]
    }
   ],
   "source": [
    "# [1: Using list slicing & list comprehension]\n",
    "import numpy as np\n",
    "def arrays(X):\n",
    "    return np.array([float(x) for x in X[::-1]])\n",
    "X = input().strip().split(' ')\n",
    "result = arrays(X)\n",
    "print(result)"
   ]
  },
  {
   "cell_type": "code",
   "execution_count": 20,
   "metadata": {},
   "outputs": [
    {
     "name": "stdout",
     "output_type": "stream",
     "text": [
      "1 2 3 4 -8 -10\n",
      "[-10.  -8.   4.   3.   2.   1.]\n"
     ]
    }
   ],
   "source": [
    "# [2: Using in-built function]\n",
    "import numpy as np\n",
    "\n",
    "X = input().strip().split(' ')\n",
    "X = np.flip(X,0)\n",
    "X = np.array([float(x) for x in X])\n",
    "print(X)"
   ]
  },
  {
   "cell_type": "markdown",
   "metadata": {},
   "source": [
    "* [Shape and Reshape](https://www.hackerrank.com/challenges/np-shape-reshape/problem)"
   ]
  },
  {
   "cell_type": "code",
   "execution_count": 4,
   "metadata": {},
   "outputs": [
    {
     "name": "stdout",
     "output_type": "stream",
     "text": [
      "1 2 3 4 5 6 7 8 9\n",
      "[[1 2 3]\n",
      " [4 5 6]\n",
      " [7 8 9]]\n"
     ]
    }
   ],
   "source": [
    "import numpy as np\n",
    "\n",
    "X = input().strip().split(' ')\n",
    "X = np.array([int(x) for x in X])\n",
    "X.shape = (3,3)\n",
    "print(X)"
   ]
  },
  {
   "cell_type": "markdown",
   "metadata": {},
   "source": [
    "* [Transpose and Flatten](https://www.hackerrank.com/challenges/np-transpose-and-flatten/problem)"
   ]
  },
  {
   "cell_type": "code",
   "execution_count": 8,
   "metadata": {},
   "outputs": [
    {
     "name": "stdout",
     "output_type": "stream",
     "text": [
      "2 2\n",
      "1 2\n",
      "3 4\n",
      "[[1 3]\n",
      " [2 4]]\n",
      "[1 2 3 4]\n"
     ]
    }
   ],
   "source": [
    "# [1: Read inputs as ints]\n",
    "import numpy as np\n",
    "X = []\n",
    "n,m = input().strip().split(' ',maxsplit=1)\n",
    "n,m = int(n),int(m)\n",
    "while(n>0):\n",
    "    X.append([int(x) for x in input().strip().split(' ',maxsplit=m-1)])\n",
    "    n-=1\n",
    "X = np.array(X)\n",
    "print(np.transpose(X),X.flatten(),sep='\\n')"
   ]
  },
  {
   "cell_type": "code",
   "execution_count": 4,
   "metadata": {},
   "outputs": [
    {
     "name": "stdout",
     "output_type": "stream",
     "text": [
      "2 2\n",
      "1 2\n",
      "3 4\n",
      "[[1 3]\n",
      " [2 4]]\n",
      "[1 2 3 4]\n"
     ]
    }
   ],
   "source": [
    "# [2: Read inputs as string, then convert to ints]\n",
    "import numpy as np\n",
    "X = []\n",
    "n,m = input().strip().split(' ',maxsplit=1)\n",
    "n,m = int(n),int(m)\n",
    "while(n>0):\n",
    "    X.append([x for x in input().strip().split(' ',maxsplit=m-1)])\n",
    "    n-=1\n",
    "X = np.array([[int(i) for i in x] for x in X])\n",
    "print(np.transpose(X),X.flatten(),sep='\\n')"
   ]
  },
  {
   "cell_type": "markdown",
   "metadata": {},
   "source": [
    "* [Concatenate](https://www.hackerrank.com/challenges/np-concatenate/problem)"
   ]
  },
  {
   "cell_type": "code",
   "execution_count": 3,
   "metadata": {
    "scrolled": true
   },
   "outputs": [
    {
     "name": "stdout",
     "output_type": "stream",
     "text": [
      "4 3 2\n",
      "1 2\n",
      "1 2\n",
      "1 2\n",
      "1 2\n",
      "3 4\n",
      "3 4\n",
      "3 4\n",
      "[[1 2]\n",
      " [1 2]\n",
      " [1 2]\n",
      " [1 2]\n",
      " [3 4]\n",
      " [3 4]\n",
      " [3 4]]\n"
     ]
    }
   ],
   "source": [
    "# [1a: Without np.concatenate(); Read inputs as ints]\n",
    "import numpy as np\n",
    "X = []\n",
    "n,m,p = input().strip().split(' ',maxsplit=2)\n",
    "n,m,p = int(n),int(m),int(p)\n",
    "k=m+n\n",
    "while(k>0):\n",
    "    X.append([int(x) for x in input().strip().split(' ',maxsplit=p-1)])\n",
    "    k-=1\n",
    "X = np.array(X)\n",
    "print(X)"
   ]
  },
  {
   "cell_type": "code",
   "execution_count": 3,
   "metadata": {
    "scrolled": true
   },
   "outputs": [
    {
     "name": "stdout",
     "output_type": "stream",
     "text": [
      "4 3 2\n",
      "1 2\n",
      "1 2\n",
      "1 2\n",
      "1 2\n",
      "3 4\n",
      "3 4\n",
      "3 4\n",
      "[[1 2]\n",
      " [1 2]\n",
      " [1 2]\n",
      " [1 2]\n",
      " [3 4]\n",
      " [3 4]\n",
      " [3 4]]\n"
     ]
    }
   ],
   "source": [
    "# [1b: Without np.concatenate(); Read inputs as string, then convert to ints]\n",
    "import numpy as np\n",
    "X = []\n",
    "n,m,p = input().strip().split(' ',maxsplit=2)\n",
    "n,m,p = int(n),int(m),int(p)\n",
    "k=m+n\n",
    "while(k>0):\n",
    "    X.append([x for x in input().strip().split(' ',maxsplit=p-1)])\n",
    "    k-=1\n",
    "X = np.array([[int(i) for i in x] for x in X])\n",
    "print(X)"
   ]
  },
  {
   "cell_type": "code",
   "execution_count": 2,
   "metadata": {
    "scrolled": true
   },
   "outputs": [
    {
     "name": "stdout",
     "output_type": "stream",
     "text": [
      "4 3 2\n",
      "1 2\n",
      "1 2\n",
      "1 2\n",
      "1 2\n",
      "3 4\n",
      "3 4\n",
      "3 4\n",
      "[[1 2]\n",
      " [1 2]\n",
      " [1 2]\n",
      " [1 2]\n",
      " [3 4]\n",
      " [3 4]\n",
      " [3 4]]\n"
     ]
    }
   ],
   "source": [
    "# [2: With np.concatenate(); Read inputs as ints] - Bad Code\n",
    "import numpy as np\n",
    "X1,X2 = [],[]\n",
    "n,m,p = input().strip().split(' ',maxsplit=2)\n",
    "n,m,p = int(n),int(m),int(p)\n",
    "\n",
    "while(n>0):\n",
    "    X1.append([int(x) for x in input().strip().split(' ',maxsplit=p-1)])\n",
    "    n-=1\n",
    "while(m>0):\n",
    "    X2.append([int(x) for x in input().strip().split(' ',maxsplit=p-1)])\n",
    "    m-=1\n",
    "X1,X2 = np.array(X1),np.array(X2)\n",
    "X = np.concatenate((X1,X2),axis=0)\n",
    "print(X)"
   ]
  },
  {
   "cell_type": "markdown",
   "metadata": {},
   "source": [
    "* [Zeros and Ones](https://www.hackerrank.com/challenges/np-zeros-and-ones/problem)"
   ]
  },
  {
   "cell_type": "code",
   "execution_count": 1,
   "metadata": {},
   "outputs": [
    {
     "name": "stdout",
     "output_type": "stream",
     "text": [
      "3 3 3\n",
      "[[[0 0 0]\n",
      "  [0 0 0]\n",
      "  [0 0 0]]\n",
      "\n",
      " [[0 0 0]\n",
      "  [0 0 0]\n",
      "  [0 0 0]]\n",
      "\n",
      " [[0 0 0]\n",
      "  [0 0 0]\n",
      "  [0 0 0]]]\n",
      "[[[1 1 1]\n",
      "  [1 1 1]\n",
      "  [1 1 1]]\n",
      "\n",
      " [[1 1 1]\n",
      "  [1 1 1]\n",
      "  [1 1 1]]\n",
      "\n",
      " [[1 1 1]\n",
      "  [1 1 1]\n",
      "  [1 1 1]]]\n"
     ]
    }
   ],
   "source": [
    "# [: Using tuple to store dimensions]\n",
    "import numpy as np\n",
    "i,j,k = input().strip().split(' ',maxsplit=2)\n",
    "i,j,k = int(i),int(j),int(k)\n",
    "shape = (i,j,k)\n",
    "print(np.zeros(shape,dtype=np.int),np.ones(shape,dtype=np.int),sep='\\n')"
   ]
  },
  {
   "cell_type": "markdown",
   "metadata": {},
   "source": [
    "* [Eye and Identity](https://www.hackerrank.com/challenges/np-eye-and-identity/problem)"
   ]
  },
  {
   "cell_type": "code",
   "execution_count": 7,
   "metadata": {
    "scrolled": true
   },
   "outputs": [
    {
     "name": "stdout",
     "output_type": "stream",
     "text": [
      "3 3\n",
      "[[1. 0. 0.]\n",
      " [0. 1. 0.]\n",
      " [0. 0. 1.]]\n"
     ]
    }
   ],
   "source": [
    "# [: Using tuple to store dimensions]\n",
    "import numpy as np\n",
    "n,m = input().strip().split(' ',maxsplit=1)\n",
    "n,m = int(n),int(m)\n",
    "print(np.eye(n,m,k=0))"
   ]
  },
  {
   "cell_type": "markdown",
   "metadata": {},
   "source": [
    "* [Array Mathematics](https://www.hackerrank.com/challenges/np-array-mathematics/problem)"
   ]
  },
  {
   "cell_type": "code",
   "execution_count": 16,
   "metadata": {},
   "outputs": [
    {
     "name": "stdout",
     "output_type": "stream",
     "text": [
      "1 4\n",
      "1 2 3 4\n",
      "5 6 7 8\n",
      "[[ 6  8 10 12]]\n",
      "[[-4 -4 -4 -4]]\n",
      "[[ 5 12 21 32]]\n",
      "[[0 0 0 0]]\n",
      "[[1 2 3 4]]\n",
      "[[    1    64  2187 65536]]\n"
     ]
    }
   ],
   "source": [
    "# [1: Using operator overloading]\n",
    "import numpy as np\n",
    "A,B = [],[]\n",
    "n,m = input().strip().split(' ',maxsplit=2)\n",
    "n,m = int(n),int(m)\n",
    "temp = n\n",
    "while(n>0):\n",
    "    A.append([int(x) for x in input().strip().split(' ',maxsplit=m-1)])\n",
    "    n-=1\n",
    "n = temp\n",
    "while(n>0):\n",
    "    B.append([int(x) for x in input().strip().split(' ',maxsplit=m-1)])\n",
    "    n-=1\n",
    "A = np.array(A)\n",
    "B = np.array(B)\n",
    "print(A+B,A-B,A*B,A//B,A%B,A**B,sep='\\n')"
   ]
  },
  {
   "cell_type": "code",
   "execution_count": 15,
   "metadata": {},
   "outputs": [
    {
     "name": "stdout",
     "output_type": "stream",
     "text": [
      "1 4\n",
      "1 2 3 4\n",
      "5 6 7 8\n",
      "[[ 6  8 10 12]]\n",
      "[[-4 -4 -4 -4]]\n",
      "[[ 5 12 21 32]]\n",
      "[[0 0 0 0]]\n",
      "[[1 2 3 4]]\n",
      "[[    1    64  2187 65536]]\n"
     ]
    }
   ],
   "source": [
    "# [2: Using in-built functions]\n",
    "import numpy as np\n",
    "A,B = [],[]\n",
    "n,m = input().strip().split(' ',maxsplit=2)\n",
    "n,m = int(n),int(m)\n",
    "temp = n\n",
    "while(n>0):\n",
    "    A.append([int(x) for x in input().strip().split(' ',maxsplit=m-1)])\n",
    "    n-=1\n",
    "n = temp\n",
    "while(n>0):\n",
    "    B.append([int(x) for x in input().strip().split(' ',maxsplit=m-1)])\n",
    "    n-=1\n",
    "A = np.array(A)\n",
    "B = np.array(B)\n",
    "print(np.add(A,B),np.subtract(A,B),np.multiply(A,B),np.floor_divide(A,B),\\\n",
    "      np.mod(A,B),np.power(A,B),sep='\\n')"
   ]
  },
  {
   "cell_type": "markdown",
   "metadata": {},
   "source": [
    "* [Floor, Ceil and Rint](https://www.hackerrank.com/challenges/floor-ceil-and-rint/problem)"
   ]
  },
  {
   "cell_type": "code",
   "execution_count": 18,
   "metadata": {},
   "outputs": [
    {
     "name": "stdout",
     "output_type": "stream",
     "text": [
      "1.1 2.2 3.3 4.4 5.5 6.6 7.7 8.8 9.9\n",
      "[[1. 2. 3. 4. 5. 6. 7. 8. 9.]]\n",
      "[[ 2.  3.  4.  5.  6.  7.  8.  9. 10.]]\n",
      "[[ 1.  2.  3.  4.  6.  7.  8.  9. 10.]]\n"
     ]
    }
   ],
   "source": [
    "# [2: Using in-built functions]\n",
    "import numpy as np\n",
    "X = []\n",
    "X.append([float(x) for x in input().strip().split(' ')])\n",
    "X = np.array(X)\n",
    "print(np.floor(X),np.ceil(X),np.rint(X),sep='\\n')"
   ]
  },
  {
   "cell_type": "markdown",
   "metadata": {},
   "source": [
    "* [Sum and Prod](https://www.hackerrank.com/challenges/np-sum-and-prod/problem)"
   ]
  },
  {
   "cell_type": "code",
   "execution_count": 24,
   "metadata": {},
   "outputs": [
    {
     "name": "stdout",
     "output_type": "stream",
     "text": [
      "2 2\n",
      "1 2\n",
      "3 4\n",
      "24\n"
     ]
    }
   ],
   "source": [
    "# [2: Using in-built functions]\n",
    "import numpy as np\n",
    "X = []\n",
    "n,m = input().strip().split(' ',maxsplit=1)\n",
    "n,m = int(n),int(m)\n",
    "while(n>0):\n",
    "    X.append([int(x) for x in input().strip().split(' ',maxsplit=m-1)])\n",
    "    n-=1\n",
    "X = np.array(X)\n",
    "print(np.prod(np.sum(X,axis=0)))"
   ]
  },
  {
   "cell_type": "markdown",
   "metadata": {},
   "source": [
    "* [Min and Max](https://www.hackerrank.com/challenges/np-min-and-max/problem)"
   ]
  },
  {
   "cell_type": "code",
   "execution_count": 23,
   "metadata": {},
   "outputs": [
    {
     "name": "stdout",
     "output_type": "stream",
     "text": [
      "4 2\n",
      "2 5\n",
      "3 7\n",
      "1 3\n",
      "4 0\n",
      "3\n"
     ]
    }
   ],
   "source": [
    "# [2: Using in-built functions]\n",
    "import numpy as np\n",
    "X = []\n",
    "n,m = input().strip().split(' ',maxsplit=1)\n",
    "n,m = int(n),int(m)\n",
    "while(n>0):\n",
    "    X.append([int(x) for x in input().strip().split(' ',maxsplit=m-1)])\n",
    "    n-=1\n",
    "X = np.array(X)\n",
    "print(np.max(np.min(X,axis=1)))"
   ]
  },
  {
   "cell_type": "raw",
   "metadata": {},
   "source": [
    "\"\"\"\n",
    "Insert [problem-name](link), derived from a txt file\n",
    "in IPython notebook.\n",
    "\"\"\"\n",
    "A,B = [],[]\n",
    "text = []\n",
    "with open(r\"C:\\Users\\Satellite\\Desktop\\try.txt\") as txt:\n",
    "    text = txt.readlines()\n",
    "for line in text:\n",
    "    i,j = line.split(' ',maxsplit=1)\n",
    "    A.append(i)\n",
    "    B.append(j)\n",
    "print(A,'--',B)\n",
    "\"\"\"\n",
    "1. Remove \\n\n",
    "2. Type   * [i](j) for i,j in A,B  for each cell.\n",
    "3. Paste each line in a new IPython cell.\n",
    "Do do this, do either\n",
    "[1] entering 'Alt+Enter' at the end of each step.\n",
    "[2] pasting all the steps in one cell, then splitting at the end\n",
    "of each line using 'Ctrl+Shift+-'\n",
    "\n",
    "Using [2] has the adv that we can use \\n as the point of split,\n",
    "where we can inject the 'Ctrl+Shift+-'. Nice!\n",
    "\"\"\"\n"
   ]
  }
 ],
 "metadata": {
  "kernelspec": {
   "display_name": "Python 3",
   "language": "python",
   "name": "python3"
  },
  "language_info": {
   "codemirror_mode": {
    "name": "ipython",
    "version": 3
   },
   "file_extension": ".py",
   "mimetype": "text/x-python",
   "name": "python",
   "nbconvert_exporter": "python",
   "pygments_lexer": "ipython3",
   "version": "3.7.0"
  }
 },
 "nbformat": 4,
 "nbformat_minor": 2
}
